{
  "nbformat": 4,
  "nbformat_minor": 0,
  "metadata": {
    "colab": {
      "provenance": [],
      "authorship_tag": "ABX9TyMnDCRAsU7/wNF4U/yudErw",
      "include_colab_link": true
    },
    "kernelspec": {
      "name": "python3",
      "display_name": "Python 3"
    },
    "language_info": {
      "name": "python"
    }
  },
  "cells": [
    {
      "cell_type": "markdown",
      "metadata": {
        "id": "view-in-github",
        "colab_type": "text"
      },
      "source": [
        "<a href=\"https://colab.research.google.com/github/Andreas103-SI/30-Dias-de-Python/blob/master/Python.ipynb\" target=\"_parent\"><img src=\"https://colab.research.google.com/assets/colab-badge.svg\" alt=\"Open In Colab\"/></a>"
      ]
    },
    {
      "cell_type": "code",
      "execution_count": null,
      "metadata": {
        "id": "M40wllHr-O2o",
        "colab": {
          "base_uri": "https://localhost:8080/"
        },
        "outputId": "cfc2f8fd-b1bd-4177-9a8e-971fbc221af4"
      },
      "outputs": [
        {
          "output_type": "stream",
          "name": "stdout",
          "text": [
            "Ingrese la medida del lado del cuadro:5\n",
            "La superficie del cuadro es:\n",
            "25\n"
          ]
        }
      ],
      "source": [
        "lado = input(\"Ingrese la medida del lado del cuadro:\")\n",
        "lado = int(lado)\n",
        "superficie = lado * lado\n",
        "print(\"La superficie del cuadro es:\")\n",
        "print(superficie)\n"
      ]
    },
    {
      "cell_type": "code",
      "source": [
        "num1 = int(input(\"Ingrese el primer número:\"))\n",
        "num2 = int(input(\"Ingrese el segundo número:\"))\n",
        "suma = num1 + num2\n",
        "producto = num1 * num2\n",
        "print(\"La suma de los números es:\")\n",
        "print(suma)\n",
        "print(\"El producto de los dos valores es:\")\n",
        "print(producto)"
      ],
      "metadata": {
        "colab": {
          "base_uri": "https://localhost:8080/"
        },
        "id": "vTPe-1t7Iu9Z",
        "outputId": "b8d4fdda-e987-43b0-df1b-92131b75b358"
      },
      "execution_count": null,
      "outputs": [
        {
          "output_type": "stream",
          "name": "stdout",
          "text": [
            "Ingrese el primer número:2\n",
            "Ingrese el segundo número:3\n",
            "La suma de los números es:\n",
            "5\n",
            "El producto de los dos valores es:\n",
            "6\n"
          ]
        }
      ]
    },
    {
      "cell_type": "code",
      "source": [
        "precio = int(input(\"Ingrese el precio del producto:\"))\n",
        "cantidad = int(input(\"Ingrese la cantidad de productos:\"))\n",
        "importe = precio*cantidad\n",
        "print(\"El importe a pagar es:\")\n",
        "print(importe)"
      ],
      "metadata": {
        "colab": {
          "base_uri": "https://localhost:8080/"
        },
        "id": "15rvt4S8JyM5",
        "outputId": "ff77c68a-ec59-4be9-c999-8312e57f6bc6"
      },
      "execution_count": null,
      "outputs": [
        {
          "output_type": "stream",
          "name": "stdout",
          "text": [
            "Ingrese el precio del producto:10\n",
            "Ingrese la cantidad de productos:2\n",
            "El importe a pagar es:\n",
            "20\n"
          ]
        }
      ]
    },
    {
      "cell_type": "markdown",
      "source": [
        "# Problemas propuestos\n",
        "### 1. Realizar la carga del lado de un cuadrado, mostrar por pantalla el perímetro del mismo (El perímetro de un cuadrado se calcula multiplicando el valor del lado por cuatro)"
      ],
      "metadata": {
        "id": "oVl-1BLKK88E"
      }
    },
    {
      "cell_type": "code",
      "source": [
        "lado = int(input(\"Ingrese la medida del lado del cuadrado:\"))\n",
        "perimetro = lado * 4\n",
        "print(\"El perímetro del cuadrado es:\")\n",
        "print(perimetro)"
      ],
      "metadata": {
        "colab": {
          "base_uri": "https://localhost:8080/"
        },
        "id": "O3ec2nqJLN9c",
        "outputId": "fe81584c-0d5e-4bd5-e913-5ad2bc575fe2"
      },
      "execution_count": null,
      "outputs": [
        {
          "output_type": "stream",
          "name": "stdout",
          "text": [
            "Ingrese la medida del lado del cuadrado:2\n",
            "El perímetro del cuadrado es:\n",
            "8\n"
          ]
        }
      ]
    },
    {
      "cell_type": "markdown",
      "source": [
        "###2. Escribir un programa en el cual se ingresen cuatro números, calcular e informar la suma de los dos primeros y el producto del tercero y el cuarto."
      ],
      "metadata": {
        "id": "l6P0W0fCLg05"
      }
    },
    {
      "cell_type": "code",
      "source": [
        "num1 = int(input(\"Ingrese primer valor\"))\n",
        "num2 = int(input(\"ingrese segundo valor\"))\n",
        "num3 = int(input(\"ingrese tercer valor\"))\n",
        "num4 = int(input(\"ingrese cuarto valor\"))\n",
        "suma = num1 + num2\n",
        "producto = num3 * num4\n",
        "print(\"La suma de los dos primeros valores es:\")\n",
        "print(suma)\n",
        "print(\"El producto del tercero y el cuarto valor es:\")\n",
        "print(producto)"
      ],
      "metadata": {
        "id": "CSYlPsXcLqRA",
        "colab": {
          "base_uri": "https://localhost:8080/"
        },
        "outputId": "74148c83-6520-4b5d-98e4-67ce28dbd023"
      },
      "execution_count": null,
      "outputs": [
        {
          "output_type": "stream",
          "name": "stdout",
          "text": [
            "Ingrese primer valor3\n",
            "ingrese segundo valor2\n",
            "ingrese tercer valor4\n",
            "ingrese cuarto valor5\n",
            "La suma de los dos primeros valores es:\n",
            "5\n",
            "El producto del tercero y el cuarto valor es:\n",
            "20\n"
          ]
        }
      ]
    },
    {
      "cell_type": "markdown",
      "source": [
        "### Realizar un programa que lea cuatro valores numéricos e informar su suma y promedio."
      ],
      "metadata": {
        "id": "eFxViD4jnAdy"
      }
    },
    {
      "cell_type": "code",
      "source": [
        "num1 = int(input(\"Ingrese primer valor\"))\n",
        "num2 = int(input(\"ingrese segundo valor\"))\n",
        "num3 = int(input(\"ingrese tercer valor\"))\n",
        "num4 = int(input(\"ingrese cuarto valor\"))\n",
        "suma = num1 + num2 + num3 + num4\n",
        "promedio = suma/4\n",
        "print(\"La suma de los cuatro valores es:\")\n",
        "print(suma)\n",
        "print(\"El promedio de los cuatro valores es:\")\n",
        "print(promedio)"
      ],
      "metadata": {
        "colab": {
          "base_uri": "https://localhost:8080/"
        },
        "id": "9xzUBa1snMAT",
        "outputId": "3d7fcb43-6e01-497d-d56c-5ba58fb3c5eb"
      },
      "execution_count": null,
      "outputs": [
        {
          "output_type": "stream",
          "name": "stdout",
          "text": [
            "Ingrese primer valor5\n",
            "ingrese segundo valor5\n",
            "ingrese tercer valor5\n",
            "ingrese cuarto valor5\n",
            "La suma de los cuatro valores es:\n",
            "20\n",
            "El promedio de los cuatro valores es:\n",
            "5.0\n"
          ]
        }
      ]
    },
    {
      "cell_type": "markdown",
      "source": [],
      "metadata": {
        "id": "yi7z68Qinm9o"
      }
    },
    {
      "cell_type": "markdown",
      "source": [
        "Calcular el sueldo mensual de un operario conociendo la cantidad de horas trabajadas y el valor por hora.\n",
        "\n",
        "\n"
      ],
      "metadata": {
        "id": "3hYwZVrMoBno"
      }
    },
    {
      "cell_type": "code",
      "source": [
        "horas_trabajadas = int(input(\"Ingrese horas trabajadas:\"))\n",
        "valor_horas = int(input(\"Ingrese cuanto se le paga por hora:\"))\n",
        "sueldo = horas_trabajadas * valor_horas\n",
        "print(\"el sueldo a pagar es\")\n",
        "print(sueldo)\n"
      ],
      "metadata": {
        "colab": {
          "base_uri": "https://localhost:8080/"
        },
        "id": "0ygLVFQLoKz5",
        "outputId": "ade8ea98-48ac-478e-fe99-bd523a6e576a"
      },
      "execution_count": null,
      "outputs": [
        {
          "output_type": "stream",
          "name": "stdout",
          "text": [
            "Ingrese horas trabajadas:38\n",
            "Ingrese cuanto se le paga por hora:8\n",
            "el sueldo a pagar es\n",
            "304\n"
          ]
        }
      ]
    },
    {
      "cell_type": "markdown",
      "source": [
        "Siempre se hace la carga del sueldo, pero si el sueldo que ingresamos supera 3000 dolares se mostrará por pantalla el mensaje \"Esta persona debe abonar impuestos\", en caso que la persona cobre 3000 o menos no aparece nada por pantalla.\n",
        "\n"
      ],
      "metadata": {
        "id": "1x8gPIuqqxQq"
      }
    },
    {
      "cell_type": "code",
      "source": [
        "sueldo = int(input(\"Ingrese cual es su sueldo:\"))\n",
        "if sueldo > 3000:\n",
        "  print(\"Esta persona debe abonar impuestos\")\n"
      ],
      "metadata": {
        "colab": {
          "base_uri": "https://localhost:8080/"
        },
        "id": "4Zpi43-ZrBpo",
        "outputId": "acf8e672-4d83-49c5-beca-3c19fc996744"
      },
      "execution_count": null,
      "outputs": [
        {
          "name": "stdout",
          "output_type": "stream",
          "text": [
            "Ingrese cual es su sueldo:900\n"
          ]
        }
      ]
    },
    {
      "cell_type": "markdown",
      "source": [
        "Estamos en presencia de una ESTRUCTURA CONDICIONAL COMPUESTA ya que tenemos actividades por la rama del verdadero y del falso.\n",
        "\n"
      ],
      "metadata": {
        "id": "piGjB5VCtMMj"
      }
    },
    {
      "cell_type": "code",
      "source": [
        "num1 = int(input(\"Ingrese primer valor\"))\n",
        "num2 = int(input(\"ingrese segundo valor\"))\n",
        "print(\"El valor mayor es\")\n",
        "if num1 > num2:\n",
        "  print(num1)\n",
        "else:\n",
        "  print(num2)"
      ],
      "metadata": {
        "colab": {
          "base_uri": "https://localhost:8080/"
        },
        "id": "tun-3LottNrO",
        "outputId": "0470ee3b-f587-4bee-9c67-bc7e7ae3ae21"
      },
      "execution_count": null,
      "outputs": [
        {
          "output_type": "stream",
          "name": "stdout",
          "text": [
            "Ingrese primer valor10\n",
            "ingrese segundo valor4\n",
            "El valor mayor es\n",
            "10\n"
          ]
        }
      ]
    },
    {
      "cell_type": "code",
      "source": [],
      "metadata": {
        "id": "N26mWR0gtRHC"
      },
      "execution_count": null,
      "outputs": []
    },
    {
      "cell_type": "markdown",
      "source": [
        "Realizar un programa que solicite la carga por teclado de dos números, si el primero es mayor al segundo informar su suma y diferencia, en caso contrario informar el producto y la división del primero respecto al segundo."
      ],
      "metadata": {
        "id": "0MomJ-ztwd5k"
      }
    },
    {
      "cell_type": "code",
      "source": [
        "\n",
        "num1 = int(input())\n",
        "num2 = int(input())\n",
        "if num1 > num2:\n",
        "  suma = num1 + num2\n",
        "  diferencia = num1 - num2\n",
        "  print(\"La suma es:\")\n",
        "  print(suma)\n",
        "  print(\"La diferencia es:\")\n",
        "  print(diferencia)\n",
        "else:\n",
        "  producto = num1 * num2\n",
        "  division = num1 / num2\n",
        "  print(\"El producto de los dos valores es:\")\n",
        "  print(producto)\n",
        "  print(\"La division del primero respecto al segundo es:\")\n",
        "  print(division)"
      ],
      "metadata": {
        "colab": {
          "base_uri": "https://localhost:8080/"
        },
        "id": "zPrEoLwWwfa9",
        "outputId": "5ce15758-a7e5-4169-bb22-6008f72ca6d3"
      },
      "execution_count": null,
      "outputs": [
        {
          "output_type": "stream",
          "name": "stdout",
          "text": [
            "5\n",
            "10\n",
            "El producto de los dos valores es:\n",
            "50\n",
            "La division del primero respecto al segundo es:\n",
            "0.5\n"
          ]
        }
      ]
    },
    {
      "cell_type": "markdown",
      "source": [
        "Se ingresan tres notas de un alumno, si el promedio es mayor o igual a siete mostrar un mensaje \"Promocionado\".\n"
      ],
      "metadata": {
        "id": "sdpc_dCt_qAa"
      }
    },
    {
      "cell_type": "code",
      "source": [
        "num1 = int(input(\"ingrese primera nota\"))\n",
        "num2 = int(input(\"ingrese segunda nota\"))\n",
        "num3 = int(input(\"ingrese tercera nota\"))\n",
        "promedio = (num1 + num2 + num3)/3\n",
        "print(\"El promedio es:\")\n",
        "print(promedio)\n",
        "if promedio >= 7:\n",
        "  print(\"superado\")\n",
        "else:\n",
        "  print(\"reprobado\")"
      ],
      "metadata": {
        "colab": {
          "base_uri": "https://localhost:8080/"
        },
        "id": "SPi9RIabAWnP",
        "outputId": "213154d6-f6a8-4c6a-b8ac-64e7ea1ebbe8"
      },
      "execution_count": null,
      "outputs": [
        {
          "output_type": "stream",
          "name": "stdout",
          "text": [
            "ingrese primera nota6\n",
            "ingrese segunda nota9\n",
            "ingrese tercera nota7\n",
            "El promedio es:\n",
            "7.333333333333333\n",
            "superado\n"
          ]
        }
      ]
    },
    {
      "cell_type": "markdown",
      "source": [
        "Se ingresa por teclado un numero positivo de uno o dos digitos(1..99) mostrar un mensaje indicando si el numero tiene uno o dos digitos.\n",
        "(Tener en cuenta que condicion debe cumplirse para tener dos digitos un numero entero."
      ],
      "metadata": {
        "id": "zLa3mBq9DskZ"
      }
    },
    {
      "cell_type": "code",
      "source": [
        "valor = int(input(\"Ingresa numeros\"))\n",
        "if valor <= 10:\n",
        "  print(\"Tiene un digito\")\n",
        "else:\n",
        "  print(\"Tiene dos digitos\")"
      ],
      "metadata": {
        "colab": {
          "base_uri": "https://localhost:8080/"
        },
        "id": "kyFT35yVFNvM",
        "outputId": "fdc595b9-94d8-449f-ec39-698564bc1ac0"
      },
      "execution_count": null,
      "outputs": [
        {
          "output_type": "stream",
          "name": "stdout",
          "text": [
            "Ingresa numeros123\n",
            "Tiene dos digitos\n"
          ]
        }
      ]
    },
    {
      "cell_type": "markdown",
      "source": [
        "**7. Estructuras condicionales anidadas**\n",
        "\n",
        "Confeccionar un programa que pida por teclado tres notas de un alumno, calcule el promedio e imprima alguno de estos mensajes:\n",
        "Si el promedio es >=7 mostrar \"Promocionado\".\n",
        "Si el promedio es >=4 y <7 mostrar \"Regular\".\n",
        "Si el promedio es <4 mostrar \"Reprobado\"."
      ],
      "metadata": {
        "id": "YjCHVW_rNXkV"
      }
    },
    {
      "cell_type": "code",
      "source": [
        "nota1 = int(input(\"Ingrese nota1:\"))\n",
        "nota2 = int(input(\"Ingrese nota2:\"))\n",
        "nota3 = int(input(\"Ingrese nota3:\"))\n",
        "prom = (nota1 + nota2 + nota3)/3\n",
        "if prom>= 7:\n",
        "  print(\"Promocionado\")\n",
        "else:\n",
        "  if prom >=4:\n",
        "    print(\"Regular\")\n",
        "  else:\n",
        "    print(\"Reprobado\")"
      ],
      "metadata": {
        "colab": {
          "base_uri": "https://localhost:8080/"
        },
        "id": "Fjlwwl9oOK5K",
        "outputId": "ea6d3606-5db2-453e-b308-3a4d96bd5b84"
      },
      "execution_count": null,
      "outputs": [
        {
          "output_type": "stream",
          "name": "stdout",
          "text": [
            "Ingrese nota1:9\n",
            "Ingrese nota2:1\n",
            "Ingrese nota3:5\n",
            "Regular\n"
          ]
        }
      ]
    },
    {
      "cell_type": "markdown",
      "source": [
        "Se cargan por teclado tres números distintos. Mostrar por pantalla el mayor de ellos."
      ],
      "metadata": {
        "id": "JXvhOWe4QTV7"
      }
    },
    {
      "cell_type": "code",
      "source": [
        "num1 = int(input(\"Ingrese primer valor\"))\n",
        "num2 = int(input(\"ingrese segundo valor\"))\n",
        "num3 = int(input(\"Ingrese tercer valor\"))\n",
        "if num1>num2:\n",
        "  if num1>num3:\n",
        "    print(num1)\n",
        "  else:\n",
        "    print(num3)\n",
        "else:\n",
        "  if num2>num3:\n",
        "    print(num2)\n",
        "\n"
      ],
      "metadata": {
        "colab": {
          "base_uri": "https://localhost:8080/"
        },
        "id": "sgXsYblJOnmd",
        "outputId": "af7108dd-b27f-4845-b80b-507d436a7cdd"
      },
      "execution_count": null,
      "outputs": [
        {
          "output_type": "stream",
          "name": "stdout",
          "text": [
            "Ingrese primer valor5\n",
            "ingrese segundo valor4\n",
            "Ingrese tercer valor2\n",
            "5\n"
          ]
        }
      ]
    },
    {
      "cell_type": "markdown",
      "source": [
        "Se ingresa por teclado un valor entero, mostrar una leyenda que indique si el número es positivo, negativo o nulo (es decir cero)"
      ],
      "metadata": {
        "id": "xYLwN-NZY2BP"
      }
    },
    {
      "cell_type": "code",
      "source": [
        "num1 = int(input(\"ingrese primer valor\"))\n",
        "if num1 == 0:\n",
        "  print(\"El valor es nulo\")\n",
        "else:\n",
        "  if num1 > 0:\n",
        "    print(\"el valor es positivo\")\n",
        "  else:\n",
        "    if num1 < 0:\n",
        "      print(\"El valor es negativo\")\n"
      ],
      "metadata": {
        "colab": {
          "base_uri": "https://localhost:8080/"
        },
        "id": "h81ZA6KUY3v2",
        "outputId": "be3b83fa-5a27-43f2-830a-37a5cf04249b"
      },
      "execution_count": null,
      "outputs": [
        {
          "output_type": "stream",
          "name": "stdout",
          "text": [
            "ingrese primer valor-20\n",
            "El valor es negativo\n"
          ]
        }
      ]
    },
    {
      "cell_type": "markdown",
      "source": [
        "confeccionar un programa que permita cargar un numero entero posituvo de hasta tres cifras y muestre unmensaje indicando si 1,2, o 3 cifras.\n",
        "Mostrar un mensaje de error si el numero de cifras es mayor."
      ],
      "metadata": {
        "id": "_NLuzUXicgLW"
      }
    },
    {
      "cell_type": "code",
      "source": [
        "num1 = int(input(\"Ingrese numero entero positivo\"))\n",
        "if num1 <= 9:\n",
        "  print(\"tiene una cifra\")\n",
        "else:\n",
        "    if num1 <= 99:\n",
        "      print(\"tiene dos cifras\")\n",
        "    else:\n",
        "      if num1 <= 999:\n",
        "        print(\"tiene tres cifras\")\n",
        "      else:\n",
        "        print(\"Error en la entrada de datos \")\n"
      ],
      "metadata": {
        "colab": {
          "base_uri": "https://localhost:8080/"
        },
        "id": "us4a3e-Kc-63",
        "outputId": "0e447364-5946-46ad-9379-9376ba5eb8b0"
      },
      "execution_count": null,
      "outputs": [
        {
          "output_type": "stream",
          "name": "stdout",
          "text": [
            "Ingrese numero entero positivo1252\n",
            "Error en la entrada de datos \n"
          ]
        }
      ]
    },
    {
      "cell_type": "markdown",
      "source": [
        "Un postulante de empleo, realiza un test de capacitacion, se obtubo la siguiente informacion: cantidad total de preguntas que se le realizaron y la cantidad de preguntas que contestó correctamente. Se pide confeccionar un programa que ingrese los dos datos por teclado e informe el nivel del mismo"
      ],
      "metadata": {
        "id": "oQNNnOVpfcWm"
      }
    },
    {
      "cell_type": "code",
      "source": [
        "total_preguntas = int (input(\"Ingrese la cantidad de preguntas\"))\n",
        "total_bien = int (input(\"Ingrese preguntas bien\"))\n",
        "porcent = total_bien * 100 / total_preguntas\n",
        "if porcent >= 90:\n",
        "  print(\"Excelente\")\n",
        "else:\n",
        "  if porcent >= 75:\n",
        "    print(\"Bien\")\n",
        "  else:\n",
        "    if porcent >= 50:\n",
        "      print(\"Aceptable\")\n",
        "    else:\n",
        "      print(\"Insuficiente\")\n",
        "\n"
      ],
      "metadata": {
        "colab": {
          "base_uri": "https://localhost:8080/"
        },
        "id": "bz2uzbqOgTjw",
        "outputId": "1541dd6a-00cd-4fa0-8d30-782540c69b18"
      },
      "execution_count": null,
      "outputs": [
        {
          "output_type": "stream",
          "name": "stdout",
          "text": [
            "Ingrese la cantidad de preguntas10\n",
            "Ingrese preguntas bien8\n",
            "Bien\n"
          ]
        }
      ]
    },
    {
      "cell_type": "markdown",
      "source": [
        "8 - Condiciones compuestas con operadores lógicos"
      ],
      "metadata": {
        "id": "v2NbjaEgAdXO"
      }
    },
    {
      "cell_type": "code",
      "source": [
        "num1 = int(input(\"Ingrese el primer valor \"))\n",
        "num2 = int(input(\"Ingrese el segundo valor \"))\n",
        "num3 = int(input(\"Ingrese tercer valor\"))\n",
        "print(\"El mayor de los tres valores es\")\n",
        "if num1 > num2 and num1 > num3:\n",
        "  print (num1)\n",
        "else:\n",
        "  if num2 > num3:\n",
        "    print(num2)\n",
        "  else:\n",
        "    print(num3)\n"
      ],
      "metadata": {
        "colab": {
          "base_uri": "https://localhost:8080/"
        },
        "id": "sGJnjIM5ggwr",
        "outputId": "f8fcac92-d2b1-48ed-eccd-c319bb5ae019"
      },
      "execution_count": null,
      "outputs": [
        {
          "output_type": "stream",
          "name": "stdout",
          "text": [
            "Ingrese el primer valor 5\n",
            "Ingrese el segundo valor 6\n",
            "Ingrese tercer valor7\n",
            "El mayor de los tres valores es\n",
            "7\n"
          ]
        }
      ]
    },
    {
      "cell_type": "markdown",
      "source": [
        "Se carga una fecha (dia, mes y año)por teclado. Mostrar un mensaje si corresponde al mprimer trimestre del año (enero, febrero o marzo) Cargar por teclado el valor numerico del dia, mes y año.\n"
      ],
      "metadata": {
        "id": "Jwx4hQfVIWG1"
      }
    },
    {
      "cell_type": "code",
      "source": [
        "dia = int(input(\"Ingrese nro de día:\"))\n",
        "mes = int(input(\"Ingrese nro de mes:\"))\n",
        "año = int(input(\"Ingrese nro de año:\"))\n",
        "if mes == 1 or mes == 2 or mes == 3:\n",
        "  print(\"Corresponde al primer trimestre\")\n"
      ],
      "metadata": {
        "colab": {
          "base_uri": "https://localhost:8080/"
        },
        "id": "KtCbfyU2KKkz",
        "outputId": "d13c06ed-13f5-4f4d-c032-5be8d9b01456"
      },
      "execution_count": null,
      "outputs": [
        {
          "output_type": "stream",
          "name": "stdout",
          "text": [
            "Ingrese nro de día:10\n",
            "Ingrese nro de mes:2\n",
            "Ingrese nro de año:2025\n",
            "Corresponde al primer trimestre\n"
          ]
        }
      ]
    },
    {
      "cell_type": "markdown",
      "source": [
        "Realizar un programa que pida cargar una fecha cualquiera, luego verificar si dicha fecha corresponde a Navidad."
      ],
      "metadata": {
        "id": "ADGYvb-CMm5K"
      }
    },
    {
      "cell_type": "code",
      "source": [
        "dia = int(input(\"Ingrese nro de día:\"))\n",
        "mes = int(input(\"Ingrese nro de mes:\"))\n",
        "año = int(input(\"Ingrese nro de año:\"))\n",
        "if mes == 12 and dia == 25:\n",
        "  print(\"Es navidad\")"
      ],
      "metadata": {
        "colab": {
          "base_uri": "https://localhost:8080/"
        },
        "id": "_W0B2E13Mo9L",
        "outputId": "9a903a8a-7445-4289-cf44-15cbf76e9abb"
      },
      "execution_count": null,
      "outputs": [
        {
          "output_type": "stream",
          "name": "stdout",
          "text": [
            "Ingrese nro de día:25\n",
            "Ingrese nro de mes:12\n",
            "Ingrese nro de año:2025\n",
            "Es navidad\n"
          ]
        }
      ]
    },
    {
      "cell_type": "markdown",
      "source": [
        "Se ingresan por teclado tres números, si todos los valores ingresados son menores a 10, imprimir en pantalla la leyenda \"Todos los números son menores a diez\""
      ],
      "metadata": {
        "id": "tNOa59RHNd8e"
      }
    },
    {
      "cell_type": "markdown",
      "source": [],
      "metadata": {
        "id": "AYyRHnXXNWAW"
      }
    },
    {
      "cell_type": "code",
      "source": [
        "num1 = int(input(\"Ingrese numero 1ro:\"))\n",
        "num2 = int(input(\"Ingrese numero 2do:\"))\n",
        "num3 = int(input(\"Ingrese numero 3ro:\"))\n",
        "if num1 < 10 and num2 < 10 and num3 < 10:\n",
        "  print(\"Numeros menores a diez\")"
      ],
      "metadata": {
        "colab": {
          "base_uri": "https://localhost:8080/"
        },
        "id": "zSfNrNnqPEav",
        "outputId": "914137db-dd53-46a8-f924-69f146f7f78d"
      },
      "execution_count": null,
      "outputs": [
        {
          "output_type": "stream",
          "name": "stdout",
          "text": [
            "Ingrese numero 1ro:2\n",
            "Ingrese numero 2do:5\n",
            "Ingrese numero 3ro:6\n",
            "Numeros menores a diez\n"
          ]
        }
      ]
    },
    {
      "cell_type": "markdown",
      "source": [
        "Se ingresan por teclado tres números, si al menos uno de los valores ingresados es menor a 10, imprimir en pantalla la leyenda \"Alguno de los números es menor a diez\"."
      ],
      "metadata": {
        "id": "RcqTwzZHPpdM"
      }
    },
    {
      "cell_type": "code",
      "source": [
        "num1 = int(input(\"Ingrese numero 1ro:\"))\n",
        "num2 = int(input(\"Ingrese numero 2do:\"))\n",
        "num3 = int(input(\"Ingrese numero 3ro:\"))\n",
        "if num1 < 10 or num2 < 10 or num3 < 10:\n",
        "  print(\"Alguno de los numeros es menor a diez\")"
      ],
      "metadata": {
        "colab": {
          "base_uri": "https://localhost:8080/"
        },
        "id": "XJDgJLcKPmqe",
        "outputId": "7fc3351b-ec7f-4982-9f7a-c104b4f16c50"
      },
      "execution_count": null,
      "outputs": [
        {
          "output_type": "stream",
          "name": "stdout",
          "text": [
            "Ingrese numero 1ro:2\n",
            "Ingrese numero 2do:20\n",
            "Ingrese numero 3ro:30\n",
            "Alguno de los numeros es menor a diez\n"
          ]
        }
      ]
    },
    {
      "cell_type": "markdown",
      "source": [
        "Se ingresan tres valores por teclado, si todos son iguales se imprime la suma del primero con el segundo y a este resultado se lo multiplica por el tercero"
      ],
      "metadata": {
        "id": "RkP7_qKTQONo"
      }
    },
    {
      "cell_type": "code",
      "source": [
        "num1 = int(input(\"Ingrese el primer valor \"))\n",
        "num2 = int(input(\"Ingrese el segundo valor \"))\n",
        "num3 = int(input(\"Ingrese tercer valor\"))\n",
        "if num1 == num2 and num1 == num3:\n",
        "    suma = num1 + num2\n",
        "    print(suma)\n",
        "    producto = suma * num3\n",
        "    print(\"La suma del primero y segundo numero multiplicado por el tercero es:\")\n",
        "    print(producto)\n",
        "\n"
      ],
      "metadata": {
        "id": "DMDtVX8DQLrn"
      },
      "execution_count": null,
      "outputs": []
    },
    {
      "cell_type": "markdown",
      "source": [
        "Escribir un programa que pida ingresar la coordenada de un punto en el plano, es decir dos valores enteros x e y (distintos a cero).\n",
        "Posteriormente imprimir en pantalla en que cuadrante se ubica dicho punto. (1º Cuadrante si x > 0 Y y > 0 , 2º Cuadrante: x < 0 Y y > 0, etc.)"
      ],
      "metadata": {
        "id": "-K3ouf5aHNrT"
      }
    },
    {
      "cell_type": "code",
      "source": [
        "x = int(input(\"Ingrese valor entero X:\"))\n",
        "y = int(input(\"Ingrese valor entero y:\"))\n",
        "if x > 0 and y > 0:\n",
        "  print(\"Se encuentra en el primer cuadrante:\")\n",
        "else:\n",
        "  if x < 0 and y > 0:\n",
        "    print(\"Se encuentra en el segundo cuadrante\")\n",
        "  else:\n",
        "    if x < 0 and y < 0:\n",
        "      print(\"Se encuentra en el tercer cuadrante\")\n",
        "    else:\n",
        "      if x > 0 and y < 0:\n",
        "        print(\"Se encuentra en el cuarto cuadrante\")\n",
        "      else:\n",
        "        print(\"Se encuentra sobre un eje\")"
      ],
      "metadata": {
        "colab": {
          "base_uri": "https://localhost:8080/"
        },
        "id": "dNWHHQ6EHcLj",
        "outputId": "db0f3bf4-6501-47a6-fedb-eff33c0a009f"
      },
      "execution_count": null,
      "outputs": [
        {
          "output_type": "stream",
          "name": "stdout",
          "text": [
            "Ingrese valor entero X:0\n",
            "Ingrese valor entero y:3\n",
            "Se encuentra sobre un eje\n"
          ]
        }
      ]
    },
    {
      "cell_type": "markdown",
      "source": [
        "De un operario se conoce su sueldo y los años de antigüedad. Se pide confeccionar un programa que lea los datos de entrada e informe:\n",
        "a) Si el sueldo es inferior a 500 y su antigüedad es igual o superior a 10 años, otorgarle un aumento del 20 %, mostrar el sueldo a pagar.\n",
        "b)Si el sueldo es inferior a 500 pero su antigüedad es menor a 10 años, otorgarle un aumento de 5 %.\n",
        "c) Si el sueldo es mayor o igual a 500 mostrar el sueldo en pantalla sin cambios.\n"
      ],
      "metadata": {
        "id": "JjTUSI20OIMz"
      }
    },
    {
      "cell_type": "code",
      "source": [
        "sueldo = float(input(\"ingrese dueldo:\"))\n",
        "años = int(input(\"Ingrese años:\"))\n",
        "\n",
        "if sueldo < 500 and años >= 10:\n",
        "  porcent = sueldo * 0.20\n",
        "  sueldo = sueldo + porcent\n",
        "  print(sueldo)\n",
        "\n",
        "if sueldo < 500 and años < 10:\n",
        "  porcent = sueldo * 0.05\n",
        "  sueldo = sueldo + porcent\n",
        "  print(sueldo)\n",
        "\n",
        "if sueldo >= 500:\n",
        "  print(sueldo)"
      ],
      "metadata": {
        "id": "VXt5ebffOOQI"
      },
      "execution_count": null,
      "outputs": []
    },
    {
      "cell_type": "markdown",
      "source": [
        "Escribir un programa en el cual: dada una lista de tres valores numéricos distintos se calcule e informe su rango de variación (debe mostrar el mayor y el menor de ellos)"
      ],
      "metadata": {
        "id": "jKckD8BHWJN4"
      }
    },
    {
      "cell_type": "code",
      "source": [
        "num1 = int(input(\"Ingrese 1ro:\"))\n",
        "num2 = int(input(\"Ingrese 2do:\"))\n",
        "num3 = int(input(\"Ingrese 3ro:\"))\n",
        "if num1 < num2 and num1 < num3:\n",
        "  print(num1)\n",
        "else:\n",
        "  if num2 < num3:\n",
        "    print(num2)\n",
        "  else:\n",
        "    print(num3)\n",
        "if  num1 > num2 and num1 > num3:\n",
        "  print(num1)\n",
        "else:\n",
        "  if num2 > num3:\n",
        "    print(num2)\n",
        "  else:\n",
        "    print(num3)"
      ],
      "metadata": {
        "id": "3Y_OFFRtXMrn"
      },
      "execution_count": null,
      "outputs": []
    },
    {
      "cell_type": "markdown",
      "source": [
        "Realizar un programa que imprima en pantalla los números del 1 al 100.\n",
        "\n",
        "Sin conocer las estructuras repetitivas podemos resolver el problema empleando una estructura secuencial. Iniciamos una variable con el valor 1, luego imprimimos la variable, incrementamos nuevamente la variable y así sucesivamente."
      ],
      "metadata": {
        "id": "emPgaXiXkb0b"
      }
    },
    {
      "cell_type": "code",
      "source": [
        "x = 1\n",
        "print(1)\n",
        "x = x + 1\n",
        "print(2)\n",
        "x = x + 2\n",
        "print(3)"
      ],
      "metadata": {
        "id": "IvpOBloHkq-k"
      },
      "execution_count": null,
      "outputs": []
    },
    {
      "cell_type": "markdown",
      "source": [
        "QUIERO NUMEROS IMPARES"
      ],
      "metadata": {
        "id": "gue3Q1yHn10W"
      }
    },
    {
      "cell_type": "code",
      "source": [
        "x = 1\n",
        "while x <= 100:\n",
        "  print(x)\n",
        "  x=x + 2"
      ],
      "metadata": {
        "id": "E2e7ypMNmgIc"
      },
      "execution_count": null,
      "outputs": []
    },
    {
      "cell_type": "markdown",
      "source": [
        "Codificar un programa que solicite la carga de un valor positivo y nos muestre desde 1 hasta el valor ingresado de uno en uno.\n",
        "Ejemplo: Si ingresamos 30 se debe mostrar en pantalla los números del 1 al 30."
      ],
      "metadata": {
        "id": "BfugXCY8oQHr"
      }
    },
    {
      "cell_type": "markdown",
      "source": [],
      "metadata": {
        "id": "Zw0ZrPiXn_TS"
      }
    },
    {
      "cell_type": "code",
      "source": [
        "n = int(input(\"Ingrese el valor final:\"))\n",
        "x = 1\n",
        "while x <= n:\n",
        "  print(x)\n",
        "  x = x + 1"
      ],
      "metadata": {
        "id": "9LgnVv5mokLa"
      },
      "execution_count": null,
      "outputs": []
    },
    {
      "cell_type": "code",
      "source": [
        "x = 1\n",
        "suma = 0\n",
        "while x <= 5:\n",
        "  valor = int(input(\"Ingrese el valor:\"))\n",
        "  suma = suma + valor\n",
        "  x = x + 1\n",
        "promedio = suma // 5 #Los dos slach muestran el promedio en numero entero y no en decimal\n",
        "print(\"La suma de los 5 valores es:\")\n",
        "print(suma)\n",
        "print(\"el promedio es:\")\n",
        "print(promedio)\n"
      ],
      "metadata": {
        "id": "pBEuN1qip89l"
      },
      "execution_count": null,
      "outputs": []
    },
    {
      "cell_type": "markdown",
      "source": [
        "Una planta que fabrica perfiles de hierro posee un lote de n piezas.\n",
        "Confeccionar un programa que pida ingresar por teclado la cantidad de piezas a procesar y luego ingrese la longitud de cada perfil; sabiendo que la pieza cuya longitud esté comprendida en el rango de 1.20 y 1.30 son aptas. Imprimir por pantalla la cantidad de piezas aptas que hay en el lote."
      ],
      "metadata": {
        "id": "52rXXC-dsv3J"
      }
    },
    {
      "cell_type": "code",
      "source": [
        "x = 1\n",
        "cantidad = 0\n",
        "n = int(input(\"Ingrese la cuantas piezas se van a procesar:\"))\n",
        "while x <= n:\n",
        "  largo = float(input(\"Ingrese la medida de la pieza\"))\n",
        "  if largo >= 1.20 and largo <= 1.30:\n",
        "    cantidad = cantidad + 1\n",
        "  x = x + 1\n",
        "print(\"La cantidad de piezas aptas es :\")\n",
        "print(cantidad)\n"
      ],
      "metadata": {
        "id": "f1DZ-Egdsf_l"
      },
      "execution_count": null,
      "outputs": []
    },
    {
      "cell_type": "markdown",
      "source": [
        "Escribir un programa que solicite ingresar 10 notas de alumnos y nos informe cuántos tienen notas mayores o iguales a 7 y cuántos menores."
      ],
      "metadata": {
        "id": "cUR0HLBBvBqG"
      }
    },
    {
      "cell_type": "code",
      "source": [
        "altas = 0\n",
        "bajas = 0\n",
        "x = 1\n",
        "while x <= 10:\n",
        "  nota = int(input(\"Ingrese nota:\"))\n",
        "  if nota >= 8:\n",
        "    altas = altas +1\n",
        "  else:\n",
        "    bajas = bajas +1\n",
        "  x = x + 1\n",
        "print(\"Cantidad de alumnos con notas mayores o iguales a 7:\")\n",
        "print(altas)\n",
        "print(\"Cantidad de alumnos con notas mayores a 8:\")\n",
        "print(bajas)"
      ],
      "metadata": {
        "id": "4uYH5fq6vBXe"
      },
      "execution_count": null,
      "outputs": []
    },
    {
      "cell_type": "code",
      "source": [
        "suma = 0\n",
        "x = 1\n",
        "n = int(input(\"Cuantas personas a medir:\"))\n",
        "while x <= n:\n",
        "  altura = float(input(\"ingrese la altura\"))\n",
        "  suma = suma + altura\n",
        "  x = x + 1\n",
        "promedio = suma / n\n",
        "print(\"Altura promedio\")\n",
        "print(promedio)"
      ],
      "metadata": {
        "id": "vZzazzJlxetk"
      },
      "execution_count": null,
      "outputs": []
    },
    {
      "cell_type": "code",
      "source": [
        "con1 = 0\n",
        "con2 = 0\n",
        "gastos = 0\n",
        "x = 1\n",
        "p = int(input(\"Ingrese la cantidad de personas:\"))\n",
        "while x <= p:\n",
        "  sueldo = float(input(\"Ingreese el dueldo del empleado:\"))\n",
        "  if sueldo <= 300:\n",
        "    con1 = con2 + 1\n",
        "  else:\n",
        "    con2 = con2 + 1\n",
        "  gastos = gastos + sueldo\n",
        "  x = x + 1\n",
        "print(\"Cantidad de empleados con sueldos entre 100 y 300:\")\n",
        "print(con1)\n",
        "print(\"Cantidad de empleados con sueldos mayores a 300:\")\n",
        "print(con2)\n",
        "print(\"Gastos en sueldos:\")\n",
        "print(gastos)"
      ],
      "metadata": {
        "id": "NIhTXqSfy7IA"
      },
      "execution_count": null,
      "outputs": []
    },
    {
      "cell_type": "markdown",
      "source": [
        "Realizar un programa que imprima 25 términos de la serie 11 - 22 - 33 - 44, etc. (No se ingresan valores por teclado)"
      ],
      "metadata": {
        "id": "K9i8R3Qh2stO"
      }
    },
    {
      "cell_type": "code",
      "source": [
        "serie = 11\n",
        "x = 1\n",
        "while x <= 25:\n",
        "  print(serie)\n",
        "  serie = serie + 11\n",
        "  x = x + 1"
      ],
      "metadata": {
        "id": "I7oFNRnr2oVc"
      },
      "execution_count": null,
      "outputs": []
    },
    {
      "cell_type": "code",
      "source": [
        "multiplo8 = 8\n",
        "while multiplo8 <= 500:\n",
        "  print(multiplo8)\n",
        "  multiplo8 = multiplo8  + 8\n"
      ],
      "metadata": {
        "id": "f2nnQXUF4F2o"
      },
      "execution_count": null,
      "outputs": []
    },
    {
      "cell_type": "markdown",
      "source": [
        "Realizar un programa que permita cargar dos listas de 15 valores cada una. Informar con un mensaje cual de las dos listas tiene un valor acumulado mayor (mensajes \"Lista 1 mayor\", \"Lista 2 mayor\", \"Listas iguales\")\n",
        "Tener en cuenta que puede haber dos o más estructuras repetitivas en un algoritmo"
      ],
      "metadata": {
        "id": "vFAqa-7aEOaG"
      }
    },
    {
      "cell_type": "code",
      "source": [
        "suma1 = 0\n",
        "suma2 = 0\n",
        "x =1\n",
        "print(\"Carga de la primera lista\")\n",
        "while x <= 5:\n",
        "  valor = int(input(\"Ingrese valor:\"))\n",
        "  suma + suma + valor\n",
        "  x = x + 1\n",
        "x = 1\n",
        "print(\"Carga de la segunda1 lista\")\n",
        "while x <= 5:\n",
        "  valor = int(input(\"Ingrese valor:\"))\n",
        "  suma2 = suma2 + valor\n",
        "  x = x + 1\n",
        "if suma1 > suma2:\n",
        "  print(\"Lista 1 tiene un valor acumulado mayor\")\n",
        "else:\n",
        "  if suma2 > suma1:\n",
        "    print(\"Lista 2 tiene un valor acumulado mayor\")\n",
        "  else:\n",
        "    print(\"Listas tiene un valor acumulado igual5\")\n"
      ],
      "metadata": {
        "id": "-uBZWaHdEQrY"
      },
      "execution_count": null,
      "outputs": []
    },
    {
      "cell_type": "markdown",
      "source": [
        "Desarrollar un programa que permita cargar n números enteros y luego nos informe cuántos valores fueron pares y cuántos impares.\n",
        "Emplear el operador “%” en la condición de la estructura condicional (este operador retorna el resto de la división de dos valores, por ejemplo 11%2 retorna un 1):\n",
        "\tif valor%2==0:"
      ],
      "metadata": {
        "id": "rJtuEHDNKC_F"
      }
    },
    {
      "cell_type": "code",
      "source": [
        "pares = 0\n",
        "impares = 0\n",
        "x = 1\n",
        "n = int(input(\"Ingrese valores a carga:\"))\n",
        "while x <= n:\n",
        "  valor = int(input(\"Ingrese valor:\"))\n",
        "  if valor % 2 == 0:\n",
        "    pares = pares + 1\n",
        "  else:\n",
        "    impares = impares + 1\n",
        "    x = x + 1\n",
        "print(\"Catidad de pares\")\n",
        "print(pares)\n",
        "print(\"Cantidad de impares\")\n",
        "print(impares )"
      ],
      "metadata": {
        "id": "0anRIdukKFTt"
      },
      "execution_count": null,
      "outputs": []
    },
    {
      "cell_type": "markdown",
      "source": [
        "# 10 - Estructura repetitiva for"
      ],
      "metadata": {
        "id": "9tg_SljEUHlV"
      }
    },
    {
      "cell_type": "markdown",
      "source": [
        "Realizar un programa que imprima en pantalla los números del 0 al 100. Este problema lo podemos resolver perfectamente con el ciclo while pero en esta situación lo resolveremos empleando el for."
      ],
      "metadata": {
        "id": "1hwoV78HUN_X"
      }
    },
    {
      "cell_type": "code",
      "source": [
        "for x in range(20,31):\n",
        "  print(x)\n"
      ],
      "metadata": {
        "id": "75J-XDRmUQi7"
      },
      "execution_count": null,
      "outputs": []
    },
    {
      "cell_type": "code",
      "source": [
        "for x in range(1,100,2):\n",
        "  print(x)\n"
      ],
      "metadata": {
        "id": "OBvdguR_U_Lk"
      },
      "execution_count": null,
      "outputs": []
    },
    {
      "cell_type": "markdown",
      "source": [
        "Desarrollar un programa que permita la carga de 10 valores por teclado y nos muestre posteriormente la suma de los valores ingresados y su promedio. Este problema ya lo desarrollamos, lo resolveremos empleando la estructura for para repetir la carga de los diez valores por teclado."
      ],
      "metadata": {
        "id": "zlqIfG7MVpal"
      }
    },
    {
      "cell_type": "code",
      "source": [
        "suma = 0\n",
        "for x in range(5):\n",
        "  valor = int(input(\"Ingrese valor:\"))\n",
        "  suma = suma + valor\n",
        "print(\"La suma es:\")\n",
        "print(suma)\n",
        "promedio = suma/5\n",
        "print(\"El promedio es:\")\n",
        "print(promedio)"
      ],
      "metadata": {
        "id": "jga0dWgUVrlJ"
      },
      "execution_count": null,
      "outputs": []
    },
    {
      "cell_type": "markdown",
      "source": [
        "Escribir un programa que solicite por teclado 10 notas de alumnos y nos informe cuántos tienen notas mayores o iguales a 7 y cuántos menores."
      ],
      "metadata": {
        "id": "GF-0yip0YAex"
      }
    },
    {
      "cell_type": "code",
      "source": [
        "aprobados = 0\n",
        "repro = 0\n",
        "for f in range(5):\n",
        "  nota = int(input(\"Ingrese nota:\"))\n",
        "  if nota >= 7:\n",
        "    aprobados = aprobados + 1\n",
        "  else:\n",
        "    repro = repro + 1\n",
        "print(\"Cantidad de aprobados\")\n",
        "print(aprobados)\n",
        "print(\"Cantidad de reprobados\")\n",
        "print(repro)"
      ],
      "metadata": {
        "id": "CsDyi-LbYBTi"
      },
      "execution_count": null,
      "outputs": []
    },
    {
      "cell_type": "code",
      "source": [
        "mul3 = 0\n",
        "mul5 = 0\n",
        "for f in range(5):\n",
        "  valor = int(input(\"Ingresev valor\"))\n",
        "  if valor % 3 == 0:\n",
        "    mul3 = mul3 + 1\n",
        "  if valor % 5 == 0:\n",
        "    mul5 = mul5 + 1\n",
        "print(\"Cantidad de valores multiplos de 3\")\n",
        "print(mul3)\n",
        "print(\"Cantidad de valores mutiplos de 5\")\n",
        "print(mul5)"
      ],
      "metadata": {
        "id": "7T3XKN1pY0Vk"
      },
      "execution_count": null,
      "outputs": []
    },
    {
      "cell_type": "code",
      "source": [],
      "metadata": {
        "id": "dv4HeC_NP7yH"
      },
      "execution_count": null,
      "outputs": []
    },
    {
      "cell_type": "markdown",
      "source": [
        "Codificar un programa que lea n números enteros y calcule la cantidad de valores mayores o iguales a 1000 (n se carga por teclado)\n",
        "Este tipo de problemas también se puede resolver empleando la estructura repetitiva for. Lo primero que se hace es cargar una variable que indique la cantidad de valores a ingresar. Dicha variable se carga antes de entrar a la estructura repetitiva for."
      ],
      "metadata": {
        "id": "oeRtltSdQI--"
      }
    },
    {
      "cell_type": "code",
      "source": [
        "cant = 0\n",
        "n = int(input(\"Cuantos valores ingresara:\"))\n",
        "for f in range(n):\n",
        "  valor = int(input(\"Ingrese valor:\"))\n",
        "  if valor >= 1000:\n",
        "    cant = cant + 1\n",
        "print(\"Cantidad de valores mayores o iguales a 1000\")\n",
        "print(cant)\n"
      ],
      "metadata": {
        "id": "Zz-eVHSLQKTD"
      },
      "execution_count": null,
      "outputs": []
    },
    {
      "cell_type": "markdown",
      "source": [
        "Confeccionar un programa que lea n pares de datos, cada par de datos corresponde a la medida de la base y la altura de un triángulo. El programa deberá informar:\n",
        "a) De cada triángulo la medida de su base, su altura y su superficie.\n",
        "b) La cantidad de triángulos cuya superficie es mayor a 12."
      ],
      "metadata": {
        "id": "fcXxRo1TRMtG"
      }
    },
    {
      "cell_type": "markdown",
      "source": [
        "Desarrollar un programa que muestre la tabla de multiplicar del 5 (del 5 al 50)"
      ],
      "metadata": {
        "id": "jASTN08qRicR"
      }
    },
    {
      "cell_type": "code",
      "source": [
        "for tabla in range(5,51,5):\n",
        "  print(tabla)"
      ],
      "metadata": {
        "id": "nFtOXcDDRjUw"
      },
      "execution_count": null,
      "outputs": []
    },
    {
      "cell_type": "markdown",
      "source": [
        "Las comillas triples no están directamente involucradas en la ejecución del código.  proporcionan un comentario descriptivo para ayudar a comprender la intención del código."
      ],
      "metadata": {
        "id": "qrYmFBr8TXEN"
      }
    },
    {
      "cell_type": "code",
      "source": [
        "\"\"\"\n",
        "Mostrar la tabla de 5 con las estructuras repetitivas:\n",
        "  while\n",
        "  y\n",
        "  for\n",
        "\"\"\"\n",
        "\n",
        "#utilizando el while\n",
        "print(\"Tabla del 5 empleando el while\")\n",
        "x=5\n",
        "while x<=50:\n",
        "    print(x)\n",
        "    x=x+5\n",
        "\n",
        "#utilizando el for\n",
        "print(\"Tabla del 5 empleando el for\")\n",
        "for x in range(5,51,5):\n",
        "    print(x)"
      ],
      "metadata": {
        "id": "G16epuPLQo5r"
      },
      "execution_count": null,
      "outputs": []
    },
    {
      "cell_type": "markdown",
      "source": [
        "Para la carga por teclado de una cadena de caracteres utilizamos la función input que retorna una cadena de caracteres:"
      ],
      "metadata": {
        "id": "5GkPd8XQUmEX"
      }
    },
    {
      "cell_type": "code",
      "source": [
        "nombre=input(\"ingrese su nombre:\")"
      ],
      "metadata": {
        "colab": {
          "base_uri": "https://localhost:8080/"
        },
        "id": "zXeRxagMUnYf",
        "outputId": "af3c872a-ce08-4508-99d7-f5cc72f03e09"
      },
      "execution_count": 3,
      "outputs": [
        {
          "name": "stdout",
          "output_type": "stream",
          "text": [
            "ingrese su nombre:Andrea\n"
          ]
        }
      ]
    },
    {
      "cell_type": "code",
      "source": [
        "print(\"Datos de la primera persona\")\n",
        "nombre1 = input(\"Ingrese nombre:\")\n",
        "edad1 = int(input(\"Ingrese edad:\"))\n",
        "altura1=float(input(\"Ingrese la altura Ej 1.75:\"))\n",
        "print(\"Datos de la segunda persona:\")\n",
        "nombre2 = input(\"Ingrese nombre:\")\n",
        "edad2=int(input(\"Ingrese la edad:\"))\n",
        "altura2 = float(input(\"Ingrese altura Ej:1.75:\"))\n",
        "print(\"La persona mas alta es:\")\n",
        "if altura1 > altura2:\n",
        "  print(nombre1)\n",
        "else:\n",
        "  print(nombre2)\n"
      ],
      "metadata": {
        "id": "PWwJLw_YU92P"
      },
      "execution_count": null,
      "outputs": []
    },
    {
      "cell_type": "markdown",
      "source": [
        "#13 - Procesar cadenas de caracteres:\n",
        "###Como su nombre lo indica una cadena de caracteres está formada generalmente por varios caracteres (de todos modos podría tener solo un caracter o ser una cadena vacía)\n",
        "Podemos acceder en forma individual a cada caracter del string mediante un subíndice:\n"
      ],
      "metadata": {
        "id": "uS7NZ0ZgYfXt"
      }
    },
    {
      "cell_type": "code",
      "source": [
        "nombre='juan'\n",
        "print(nombre[0])   #se imprime una j\n",
        "if nombre[0]==\"j\": #verificamos si el primer caracter del string es una j\n",
        "    print(nombre)\n",
        "    print(\"comienza con la letra j\")"
      ],
      "metadata": {
        "id": "m86AniySY0jU"
      },
      "execution_count": null,
      "outputs": []
    },
    {
      "cell_type": "markdown",
      "source": [
        "Si queremos conocer la longitud de un string en Python disponemos de una función llamada len que retorna la cantidad de caracteres que contiene:"
      ],
      "metadata": {
        "id": "E_h9pSdrZjkZ"
      }
    },
    {
      "cell_type": "code",
      "source": [
        "nombre=input(\"Ingrese su nombre:\")\n",
        "print(\"Primer caracter\")\n",
        "print(nombre[0])\n",
        "print(\"Cantidad de letras del nombre:\")\n",
        "print(len(nombre))"
      ],
      "metadata": {
        "id": "FbdBLNP0Zksy"
      },
      "execution_count": null,
      "outputs": []
    },
    {
      "cell_type": "markdown",
      "source": [],
      "metadata": {
        "id": "6_4LY2FYaHtK"
      }
    },
    {
      "cell_type": "markdown",
      "source": [
        "Ingresar un mail por teclado. Verificar si el string ingresado contiene solo un caracter \"@\"."
      ],
      "metadata": {
        "id": "Overt60vaPjH"
      }
    },
    {
      "cell_type": "code",
      "source": [
        "mail=input(\"Ingrese un mail:\")\n",
        "cantidad=0\n",
        "x=0\n",
        "while x<len(mail):\n",
        "    if mail[x]==\"@\":\n",
        "        cantidad=cantidad+1\n",
        "    x=x+1\n",
        "if cantidad==1:\n",
        "    print(\"Contiene solo un caracter @ el mail ingresado\")\n",
        "else:\n",
        "    print(\"Incorrecto\")"
      ],
      "metadata": {
        "colab": {
          "base_uri": "https://localhost:8080/"
        },
        "id": "eXpPdwp8aPAk",
        "outputId": "5416afad-a1b8-4b56-891c-cafaa184f410"
      },
      "execution_count": 10,
      "outputs": [
        {
          "output_type": "stream",
          "name": "stdout",
          "text": [
            "Ingrese un mail:andreasierra103@gmail.com\n",
            "Contiene solo un caracter @ el mail ingresado\n"
          ]
        }
      ]
    },
    {
      "cell_type": "markdown",
      "source": [
        "Los primeros tres métodos que veremos se llaman: lower, upper y capitalize.\n",
        "---\n",
        "\n",
        "\n",
        "upper() : devuelve una cadena de caracteres convertida todos sus caracteres a mayúsculas.\n",
        "lower() : devuelve una cadena de caracteres convertida todos sus caracteres a minúsculas.\n",
        "capitalize() : devuelve una cadena de caracteres convertida a mayúscula solo su primer caracter y todos los demás a minúsculas."
      ],
      "metadata": {
        "id": "SXKSktsTbPOL"
      }
    },
    {
      "cell_type": "markdown",
      "source": [],
      "metadata": {
        "id": "BBFjt1UWbdrW"
      }
    },
    {
      "cell_type": "markdown",
      "source": [
        "Creación de la lista por asignación\n",
        "Para crear una lista por asignación debemos indicar sus elementos encerrados entre corchetes y separados por coma."
      ],
      "metadata": {
        "id": "7tyoa4ipbnGE"
      }
    },
    {
      "cell_type": "code",
      "source": [
        "lista1=[10, 5, 3]                       # lista de enteros\n",
        "lista2=[1.78, 2.66, 1.55, 89,4]         # lista de valores float\n",
        "lista3=[\"lunes\", \"martes\", \"miercoles\"] # lista de string\n",
        "lista4=[\"juan\", 45, 1.92]               # lista con elementos de distinto tipo"
      ],
      "metadata": {
        "id": "tXPNve7ccLCr"
      },
      "execution_count": null,
      "outputs": []
    },
    {
      "cell_type": "code",
      "source": [
        "lista=[\"ana\", 7, 9]\n",
        "print(\"Nombre del alumno:\")\n",
        "print(lista[0])\n",
        "promedio=(lista[1]+lista[2])//2# Las barras dobles son para redondear a numero entero mas cercano.\n",
        "print(\"Promedio de sus dos notas:\")\n",
        "print(promedio)"
      ],
      "metadata": {
        "id": "-YP5NZLyc1AP"
      },
      "execution_count": null,
      "outputs": []
    },
    {
      "cell_type": "markdown",
      "source": [
        "#Programación estructurada\n",
        "## busca dividir o descomponer un problema complejo en pequeños problemas. La solución de cada uno de esos pequeños problemas nos trae la solución del problema complejo.\n",
        "###Hemos declarado dos funciones, una que permite cargar dos enteros sumarlos y mostrar el resultado:"
      ],
      "metadata": {
        "id": "XICgUwVFd6FH"
      }
    },
    {
      "cell_type": "code",
      "source": [
        "def carga_suma():\n",
        "    valor1=int(input(\"Ingrese el primer valor:\"))\n",
        "    valor2=int(input(\"Ingrese el segundo valor:\"))\n",
        "    suma=valor1+valor2\n",
        "    print(\"La suma de los dos valores es:\",suma)"
      ],
      "metadata": {
        "id": "EVj1otMweU-l"
      },
      "execution_count": null,
      "outputs": []
    },
    {
      "cell_type": "markdown",
      "source": [
        "# Tupla"
      ],
      "metadata": {
        "id": "XoqmiXl3e8EQ"
      }
    },
    {
      "cell_type": "code",
      "source": [
        "tupla=(1, 2, 3)\n",
        "fecha=(25, \"Diciembre\", 2016)\n",
        "punto=(10, 2)\n",
        "persona=(\"Rodriguez\", \"Pablo\", 43)\n",
        "print(tupla)\n",
        "print(fecha)\n",
        "print(punto)\n",
        "print(persona)"
      ],
      "metadata": {
        "id": "43eOng1QfCFn"
      },
      "execution_count": null,
      "outputs": []
    },
    {
      "cell_type": "markdown",
      "source": [
        "## for para recorrer tuplas y listas"
      ],
      "metadata": {
        "id": "0oofLG95fdxV"
      }
    },
    {
      "cell_type": "code",
      "source": [
        "lista=[2, 3, 50, 7, 9]\n",
        "\n",
        "print(lista) # [2, 3, 50, 7, 9]\n",
        "\n",
        "for x in range(len(lista)):\n",
        "    if lista[x]<10:\n",
        "        lista[x]=0\n",
        "\n",
        "print(lista) # [0, 0, 50, 0, 0]"
      ],
      "metadata": {
        "id": "lHKSIWsEf6-d"
      },
      "execution_count": null,
      "outputs": []
    },
    {
      "cell_type": "code",
      "source": [
        "lista=[2, 3, 50, 7, 9]\n",
        "\n",
        "for elemento in lista:\n",
        "    print(elemento)"
      ],
      "metadata": {
        "id": "MIxaCj4ugCNi"
      },
      "execution_count": null,
      "outputs": []
    },
    {
      "cell_type": "code",
      "source": [
        "def cargar():\n",
        "    lista=[]\n",
        "    for x in range(5):\n",
        "        num=int(input(\"Ingrese un valor:\"))\n",
        "        lista.append(num)\n",
        "    return lista\n",
        "\n",
        "\n",
        "def imprimir(lista):\n",
        "    print(\"Lista completa\")\n",
        "    for elemento in lista:\n",
        "        print(elemento)\n",
        "\n",
        "\n",
        "def mayor(lista):\n",
        "    may=lista[0]\n",
        "    for elemento in lista:\n",
        "        if elemento>may:\n",
        "            may=elemento\n",
        "    print(\"El elemento mayor de la lista es\",may)\n",
        "\n",
        "def sumar_elementos(lista):\n",
        "    suma=0\n",
        "    for elemento in lista:\n",
        "        suma=suma+elemento\n",
        "    print(\"La suma de todos sus elementos es\",suma)\n",
        "\n",
        "\n",
        "# bloque principal\n",
        "\n",
        "lista=cargar()\n",
        "imprimir(lista)\n",
        "mayor(lista)\n",
        "sumar_elementos(lista)\n",
        ""
      ],
      "metadata": {
        "colab": {
          "base_uri": "https://localhost:8080/"
        },
        "id": "0RedaJmGgOhr",
        "outputId": "76c8845d-d0b2-4266-c5b5-bba9df5faa69"
      },
      "execution_count": 16,
      "outputs": [
        {
          "output_type": "stream",
          "name": "stdout",
          "text": [
            "Ingrese un valor:30\n",
            "Ingrese un valor:10\n",
            "Ingrese un valor:5\n",
            "Ingrese un valor:1\n",
            "Ingrese un valor:2\n",
            "Lista completa\n",
            "30\n",
            "10\n",
            "5\n",
            "1\n",
            "2\n",
            "El elemento mayor de la lista es 30\n",
            "La suma de todos sus elementos es 48\n"
          ]
        }
      ]
    }
  ]
}